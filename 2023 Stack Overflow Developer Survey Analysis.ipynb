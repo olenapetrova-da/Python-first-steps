{
 "cells": [
  {
   "cell_type": "markdown",
   "id": "08873292",
   "metadata": {},
   "source": [
    "The survey was fielded from May 8, 2023 to May 19, 2023.\n",
    "\n",
    "Dataset is taken from the [Stack Overflow Annual Developer Survey](https://insights.stackoverflow.com/survey)\n",
    "\n",
    "# Запитання \n",
    "\n",
    "1. Скільки респондентів пройшли опитування?\n",
    "2. Скільки респондентів відповіли на всі запитання?\n",
    "3. Які значення мір центральної тенденції для досвіду (WorkExp) респондентів?\n",
    "4. Скільки респондентів працює віддалено?\n",
    "5. Який відсоток респондентів програмує на Python?\n",
    "6. Скільки респондентів навчалося програмувати за допомогою онлайн курсів?\n",
    "7. Серед респондентів що програмують на Python в групуванні по країнам, яка середня та медіанна сума компенсації (ConvertedCompYearly) в кожній країні?\n",
    "8. Які рівні освіти мають 5 респондентів з найбільшою компенсацією?\n",
    "\n",
    "**Бонусні запитання**:  \n",
    "1. В кожній віковій категорії, який відсоток респондентів програмує на Python?\n",
    "2. Серед респондентів що знаходяться в 75 перцентилі за компенсацією середнього і працюють віддалено, які індустрії є найрозповсюдженішими?"
   ]
  },
  {
   "cell_type": "code",
   "execution_count": 2,
   "id": "ad4d2ff0",
   "metadata": {
    "ExecuteTime": {
     "end_time": "2023-12-16T14:16:36.958137800Z",
     "start_time": "2023-12-16T14:16:34.308691300Z"
    }
   },
   "outputs": [],
   "source": [
    "import pandas as pd\n",
    "import numpy as np\n",
    "survey=pd.read_csv(\"C:/Users/User/Documents/data/Datasets/stack-overflow-developer-survey-2023/survey_results_public.csv\")\n",
    "structure=pd.read_csv(\"C:/Users/User/Documents/data/Datasets/stack-overflow-developer-survey-2023/survey_results_schema.csv\")"
   ]
  },
  {
   "cell_type": "code",
   "execution_count": 3,
   "id": "e306c1d9",
   "metadata": {
    "ExecuteTime": {
     "end_time": "2023-12-16T14:16:36.978025600Z",
     "start_time": "2023-12-16T14:16:36.960135Z"
    }
   },
   "outputs": [
    {
     "name": "stdout",
     "output_type": "stream",
     "text": [
      "Number of respondents by nunique() - 89184\n",
      "Number of respondents by .shape method - 89184\n"
     ]
    }
   ],
   "source": [
    "#1. Скільки респондентів пройшли опитування?\n",
    "u_resp=survey[\"ResponseId\"].nunique()\n",
    "print(\"Number of respondents by nunique() -\", u_resp)\n",
    "#The approach bellow shows number of raws (.shape returns list [Number of Raws, Number of Columns ]\n",
    "# where Number of Raws is the 0-st value of the list and Number of Columns is the 1-st value of the list \n",
    "print(\"Number of respondents by .shape method -\", survey.shape[0])"
   ]
  },
  {
   "cell_type": "code",
   "execution_count": 4,
   "id": "cfcb6030",
   "metadata": {
    "ExecuteTime": {
     "end_time": "2023-12-16T14:16:37.184294300Z",
     "start_time": "2023-12-16T14:16:36.969980100Z"
    }
   },
   "outputs": [
    {
     "name": "stdout",
     "output_type": "stream",
     "text": [
      "Number of respondents answered all the questions is - 0 \n",
      " (done without checking the schema)\n"
     ]
    }
   ],
   "source": [
    "#2. Скільки респондентів відповіли на всі запитання?\n",
    "survey_compl=survey.dropna()\n",
    "print(\"Number of respondents answered all the questions is -\", survey_compl[\"ResponseId\"].count(), \"\\n (done without checking the schema)\")"
   ]
  },
  {
   "cell_type": "code",
   "execution_count": 5,
   "id": "09940fa6",
   "metadata": {
    "ExecuteTime": {
     "end_time": "2023-12-16T14:16:37.333951500Z",
     "start_time": "2023-12-16T14:16:37.170250600Z"
    }
   },
   "outputs": [
    {
     "name": "stdout",
     "output_type": "stream",
     "text": [
      "Number of respondents answered all the questions is - 2032 \n",
      " (with checking the schema)\n"
     ]
    }
   ],
   "source": [
    "#2. Скільки респондентів відповіли на всі запитання? \n",
    "\n",
    "#Test number of questions in 'survey' and 'structure'. See they are different - 78 vs 85\n",
    "#print(structure['qname'].nunique())\n",
    "#print(survey.shape[0]) #explanation of shape[] is in the first question above\n",
    "\n",
    "#there should be a way to combine values for repeated question in 'survey' in order to mark both as non null if there is data in any of them\n",
    "\n",
    "# Below is an approach, proposed by the course mentors, but I don't understand it\n",
    "questions=set(structure.qname.unique()) & set(survey.columns) \n",
    "#probably, 'questions' is a set() object \n",
    "# and '&\" check both sets - unique gnames from Structure and columns labels from Survey -\n",
    "# and returns \"True\" if there is data in any of the columns with the same name\n",
    "\n",
    "n=survey.dropna(subset=questions).shape[0]\n",
    "#DO NOT understand \"dropna(subset=questions)\"\n",
    "#Does it, while checking data by columns, consider two repeated columns labels as the same one?\n",
    "#Thus, subset=questions specifies acual columns, some of which may by matrixes?\n",
    "\n",
    "print(\"Number of respondents answered all the questions is -\",n,\"\\n (with checking the schema)\")"
   ]
  },
  {
   "cell_type": "code",
   "execution_count": 6,
   "id": "537eeb36",
   "metadata": {
    "ExecuteTime": {
     "end_time": "2023-12-16T14:16:37.358650100Z",
     "start_time": "2023-12-16T14:16:37.336952800Z"
    }
   },
   "outputs": [
    {
     "name": "stdout",
     "output_type": "stream",
     "text": [
      "Mean is 11.41\n",
      "Median is 9.0\n"
     ]
    }
   ],
   "source": [
    "#3. Які значення мір центральної тенденції для досвіду (WorkExp) респондентів?\n",
    "print('Mean is',survey[\"WorkExp\"].agg('mean').round(2))\n",
    "print('Median is', survey[\"WorkExp\"].median())\n",
    "#print('Mode is', survey[\"WorkExp\"].mode())"
   ]
  },
  {
   "cell_type": "code",
   "execution_count": 17,
   "id": "0df01504",
   "metadata": {
    "ExecuteTime": {
     "end_time": "2023-12-16T14:17:01.174935900Z",
     "start_time": "2023-12-16T14:17:01.146248300Z"
    }
   },
   "outputs": [
    {
     "name": "stdout",
     "output_type": "stream",
     "text": [
      "RemoteWork\n",
      "Hybrid (some remote, some in-person)    31131\n",
      "In-person                               12113\n",
      "Remote                                  30566\n",
      "Name: ResponseId, dtype: int64 \n",
      "\n",
      "Work remotely 30566\n"
     ]
    }
   ],
   "source": [
    "#4. Скільки респондентів працює віддалено?\n",
    "remote=survey.groupby('RemoteWork') #group all the raws in 3 groups (by values from 'RemoteWork' column)\n",
    "r_count=remote['ResponseId'].count() #counts number of answers for each of 3 variants by column 'ResponseId'\n",
    "\n",
    "#remote=survey.groupby('RemoteWork')['ResponseId'].count()\n",
    "#print(remote,'\\n')\n",
    "\n",
    "print('Work remotely',r_count['Remote']) #prints only one of 3 variants - 'Remote'\n"
   ]
  },
  {
   "cell_type": "code",
   "execution_count": 8,
   "id": "3d4c0acd",
   "metadata": {
    "ExecuteTime": {
     "end_time": "2023-12-16T14:16:37.446956Z",
     "start_time": "2023-12-16T14:16:37.420483800Z"
    }
   },
   "outputs": [
    {
     "name": "stdout",
     "output_type": "stream",
     "text": [
      "Calculation 1 with .count() method: 48.39 %\n",
      "Calculation 2 with .sum() method: 48.39 %\n",
      "Calculation 3 with additional variable: 48.39 %\n"
     ]
    }
   ],
   "source": [
    "#5. Який відсоток респондентів програмує на Python?\n",
    "#subset=survey.loc[:,['ResponseId','LanguageHaveWorkedWith']]\n",
    "l_py=survey['LanguageHaveWorkedWith'].str.contains('Python')\n",
    "l_py1=l_py[l_py == True]\n",
    "\n",
    "py_perc_gen=l_py.sum()/u_resp*100\n",
    "\n",
    "print(\"Calculation 1 with .count() method:\",round(l_py1.count()/u_resp*100,2),'%')\n",
    "print(\"Calculation 2 with .sum() method:\",round(l_py.sum()/u_resp*100,2),'%')\n",
    "print(\"Calculation 3 with additional variable:\",round(py_perc_gen,2),'%')\n"
   ]
  },
  {
   "cell_type": "code",
   "execution_count": 9,
   "id": "1c72c745",
   "metadata": {
    "ExecuteTime": {
     "end_time": "2023-12-16T14:16:37.507693700Z",
     "start_time": "2023-12-16T14:16:37.438957900Z"
    }
   },
   "outputs": [
    {
     "name": "stdout",
     "output_type": "stream",
     "text": [
      "The number of interviewees who learnt coding with online courses is 43201\n"
     ]
    }
   ],
   "source": [
    "#6. Скільки респондентів навчалося програмувати за допомогою онлайн курсів?\n",
    "online_courses=survey['LearnCode'].str.contains('Online Courses').sum() \n",
    "# gets the list of True/False and then the function \"sum()\" summs Trues (True=1)\n",
    "print(\"The number of interviewees who learnt coding with online courses is\",online_courses)"
   ]
  },
  {
   "cell_type": "code",
   "execution_count": 10,
   "id": "d908da0a",
   "metadata": {
    "ExecuteTime": {
     "end_time": "2023-12-16T14:16:37.567909500Z",
     "start_time": "2023-12-16T14:16:37.500704700Z"
    }
   },
   "outputs": [
    {
     "name": "stdout",
     "output_type": "stream",
     "text": [
      "Another way to calculate online courses repeats the previous result - 43201\n"
     ]
    }
   ],
   "source": [
    "#6. Скільки респондентів навчалося програмувати за допомогою онлайн курсів?\n",
    "online_or_not=survey['LearnCode'].str.contains('Online Courses') #get the list of True/False\n",
    "online_courses=online_or_not[online_or_not==True].count()\n",
    "print(\"Another way to calculate online courses repeats the previous result -\",online_courses)"
   ]
  },
  {
   "cell_type": "code",
   "execution_count": 11,
   "id": "e6377a6f",
   "metadata": {
    "ExecuteTime": {
     "end_time": "2023-12-16T14:16:37.668314900Z",
     "start_time": "2023-12-16T14:16:37.589151800Z"
    }
   },
   "outputs": [
    {
     "name": "stdout",
     "output_type": "stream",
     "text": [
      "The table shows mean and median compensation for Python partitioners by country: \n",
      "                                               mean   median\n",
      "Country                                                    \n",
      "Afghanistan                             665.000000     48.0\n",
      "Albania                               28008.600000  11844.0\n",
      "Algeria                                8336.333333   6586.0\n",
      "Andorra                               32127.000000  32127.0\n",
      "Angola                                  662.000000    662.0\n",
      "...                                            ...      ...\n",
      "Venezuela, Bolivarian Republic of...  24973.529412  12000.0\n",
      "Viet Nam                              20191.870370  13401.0\n",
      "Yemen                                  8373.000000   9000.0\n",
      "Zambia                                13051.000000   9687.0\n",
      "Zimbabwe                               5600.000000   6000.0\n",
      "\n",
      "[173 rows x 2 columns]\n"
     ]
    }
   ],
   "source": [
    "#7. Серед респондентів що програмують на Python в групуванні по країнам, \n",
    "#яка середня та медіанна сума компенсації (ConvertedCompYearly) в кожній країні?\n",
    "\n",
    "# Create True/False series \n",
    "l_py=survey['LanguageHaveWorkedWith'].str.contains('Python') \n",
    "\n",
    "#Add column with Python \"True\\False\" to the DataFrame\n",
    "survey['Python']=l_py \n",
    "\n",
    "#Select rows in DataFrame with Python True\n",
    "subset_py=survey[survey['Python']==True] \n",
    "\n",
    "#Group them by countries\n",
    "c_group=subset_py.groupby('Country') \n",
    "\n",
    "#Calculations with compensation\n",
    "c_comp_py=c_group['ConvertedCompYearly'].agg(['mean','median']) \n",
    "print(\"The table shows mean and median compensation for Python partitioners by country: \\n\",c_comp_py)"
   ]
  },
  {
   "cell_type": "code",
   "execution_count": 12,
   "id": "194a897a",
   "metadata": {
    "ExecuteTime": {
     "end_time": "2023-12-16T14:16:37.778332200Z",
     "start_time": "2023-12-16T14:16:37.668314900Z"
    }
   },
   "outputs": [
    {
     "name": "stdout",
     "output_type": "stream",
     "text": [
      "Ed level of the 5 most high compensated respondents is: \n",
      "        ConvertedCompYearly                                         EdLevel\n",
      "53268           74351432.0  Professional degree (JD, MD, Ph.D, Ed.D, etc.)\n",
      "77848           73607918.0  Professional degree (JD, MD, Ph.D, Ed.D, etc.)\n",
      "66223           72714292.0    Bachelor’s degree (B.A., B.S., B.Eng., etc.)\n",
      "28121           57513831.0                       Primary/elementary school\n",
      "19679           36573181.0  Professional degree (JD, MD, Ph.D, Ed.D, etc.)\n"
     ]
    }
   ],
   "source": [
    "#8. Які рівні освіти мають 5 респондентів з найбільшою компенсацією?\n",
    "\n",
    "#Sort values in boundaries of the entire DataFrame\n",
    "comp_sorted=survey.sort_values(by='ConvertedCompYearly', ascending=False)[:5]\n",
    "comp_sorted.loc[:,['ConvertedCompYearly','EdLevel']]\n",
    "\n",
    "print(\"Ed level of the 5 most high compensated respondents is: \\n\",comp_sorted.loc[:,['ConvertedCompYearly','EdLevel']])"
   ]
  },
  {
   "cell_type": "code",
   "execution_count": 13,
   "id": "2ddf1600",
   "metadata": {
    "ExecuteTime": {
     "end_time": "2023-12-16T14:16:37.917707500Z",
     "start_time": "2023-12-16T14:16:37.777261500Z"
    }
   },
   "outputs": [
    {
     "name": "stdout",
     "output_type": "stream",
     "text": [
      "Another approach shows the same result:\n",
      " 53268    Professional degree (JD, MD, Ph.D, Ed.D, etc.)\n",
      "77848    Professional degree (JD, MD, Ph.D, Ed.D, etc.)\n",
      "66223      Bachelor’s degree (B.A., B.S., B.Eng., etc.)\n",
      "28121                         Primary/elementary school\n",
      "19679    Professional degree (JD, MD, Ph.D, Ed.D, etc.)\n",
      "Name: EdLevel, dtype: object\n"
     ]
    }
   ],
   "source": [
    "#8. Які рівні освіти мають 5 респондентів з найбільшою компенсацією?\n",
    "\n",
    "comp_sorted=survey.sort_values(by='ConvertedCompYearly', ascending=False).iloc[0:5,7]\n",
    "\n",
    "print(\"Another approach shows the same result:\\n\",comp_sorted)"
   ]
  },
  {
   "cell_type": "markdown",
   "id": "26fc11d4",
   "metadata": {},
   "source": [
    "## Bonus ##"
   ]
  },
  {
   "cell_type": "code",
   "execution_count": 14,
   "id": "5e299843",
   "metadata": {
    "ExecuteTime": {
     "end_time": "2023-12-16T14:16:37.940887Z",
     "start_time": "2023-12-16T14:16:37.907710300Z"
    }
   },
   "outputs": [
    {
     "name": "stdout",
     "output_type": "stream",
     "text": [
      "Percent of Python usage by Age\n",
      "18-24 years old       63.054187\n",
      "25-34 years old       48.361257\n",
      "35-44 years old       42.230384\n",
      "45-54 years old       39.363793\n",
      "55-64 years old       37.697929\n",
      "65 years or older     32.879201\n",
      "Prefer not to say     57.632399\n",
      "Under 18 years old    71.234599\n",
      "Name: Python, dtype: object\n"
     ]
    }
   ],
   "source": [
    "#1. В кожній віковій категорії, який відсоток респондентів програмує на Python?\n",
    "age_cat=survey.groupby('Age')\n",
    "py_in_age=age_cat['Python'].sum()\n",
    "py_perc=py_in_age/age_cat['Python'].count()*100\n",
    "#rounded_py_perc=round(py_perc,2)\n",
    "#print(py_in_age)\n",
    "print('Percent of Python usage by',py_perc)\n",
    "#Connot round\n"
   ]
  },
  {
   "cell_type": "code",
   "execution_count": 15,
   "id": "ae16f66d3f1af6c6",
   "metadata": {
    "ExecuteTime": {
     "end_time": "2023-12-16T14:16:37.980351800Z",
     "start_time": "2023-12-16T14:16:37.928877200Z"
    }
   },
   "outputs": [
    {
     "name": "stdout",
     "output_type": "stream",
     "text": [
      "Percent of Python usage by Age\n",
      "18-24 years old       61.390887\n",
      "25-34 years old       47.577225\n",
      "35-44 years old       41.442626\n",
      "45-54 years old       38.456923\n",
      "55-64 years old       36.497642\n",
      "65 years or older     30.913749\n",
      "Prefer not to say     41.202673\n",
      "Under 18 years old    68.628876\n",
      "dtype: object\n"
     ]
    }
   ],
   "source": [
    "#1. В кожній віковій категорії, який відсоток респондентів програмує на Python?\n",
    "age_cat=survey.groupby('Age')\n",
    "py_in_age=age_cat['Python'].sum()\n",
    "py_perc=py_in_age/age_cat['ResponseId'].count()*100\n",
    "#rounded_py_perc=round(py_perc,2)\n",
    "#print(py_in_age)\n",
    "print('Percent of Python usage by',py_perc)"
   ]
  },
  {
   "cell_type": "code",
   "execution_count": 16,
   "id": "0e420610",
   "metadata": {
    "ExecuteTime": {
     "end_time": "2023-12-16T14:16:38.099768300Z",
     "start_time": "2023-12-16T14:16:37.949352800Z"
    }
   },
   "outputs": [
    {
     "name": "stdout",
     "output_type": "stream",
     "text": [
      "Industries by popularity among respondents of the percentile 75 who work remotely:  \n",
      " Industry\n",
      "Information Services, IT, Software Development, or other Technology    1800\n",
      "Financial Services                                                      535\n",
      "Other                                                                   441\n",
      "Healthcare                                                              365\n",
      "Retail and Consumer Services                                            243\n",
      "Manufacturing, Transportation, or Supply Chain                          168\n",
      "Advertising Services                                                    121\n",
      "Insurance                                                                96\n",
      "Higher Education                                                         65\n",
      "Legal Services                                                           21\n",
      "Oil & Gas                                                                17\n",
      "Wholesale                                                                11\n",
      "Name: ResponseId, dtype: int64  \n"
     ]
    }
   ],
   "source": [
    "#2.Серед респондентів що знаходяться в 75 перцентилі за компенсацією середнього і працюють віддалено, \n",
    "#які індустрії є найрозповсюдженішими?\n",
    "\n",
    "#*first_quartile_age = students_df['Вік'].quantile(0.25)  # 21.0* Знаходить перший квартиль віку студентів.\n",
    "\n",
    "sort_comp=survey.sort_values(by='ConvertedCompYearly', inplace=False)\n",
    "\n",
    "#Test - find number (value) that could be equal the 3rd quartile in Compensation column\n",
    "third_q_comp=sort_comp['ConvertedCompYearly'].quantile(0.75)\n",
    "#print('1. number (value) that could be equal the 3rd quartile in Compensation column',third_quartile_comp)\n",
    "\n",
    "#Test - check if there is this value in the dataset\n",
    "#print(survey[survey['ConvertedCompYearly']==third_q_comp])\n",
    "\n",
    "#Test - check if the value (3rd quartile that was calculated above) exists in a the column ConvertedCompYearly - series in which will look for\n",
    "#print('\\n 2. if the 3rd quartile value exists in a th column ConvertedCompYearly  \\n',third_q_comp in sort_comp['ConvertedCompYearly'],' \\n')\n",
    "\n",
    "#Limit DataFrame to rows with ConvertedCompYearly above quantile(0.75)\n",
    "subset_third_q=sort_comp[sort_comp['ConvertedCompYearly']>third_q_comp]\n",
    "#Limit DataFrame 'subset_third_q' to rows with Remote in RemoteWork\n",
    "subset_third_q_r= subset_third_q[subset_third_q['RemoteWork']=='Remote']\n",
    "#Create subset with grouped limited above data \n",
    "Subset_ind_groups=subset_third_q_r.groupby('Industry') # if we add .count() it returns the entire data set, thus we should create series\n",
    "\n",
    "Ind_counts=Subset_ind_groups['ResponseId'].count()\n",
    "print('Industries by popularity among respondents of the percentile 75 who work remotely:  \\n',Ind_counts.sort_values(ascending=False),' \\n')"
   ]
  },
  {
   "cell_type": "code",
   "execution_count": 16,
   "id": "d0aefe05",
   "metadata": {
    "ExecuteTime": {
     "end_time": "2023-12-16T14:16:38.100733400Z",
     "start_time": "2023-12-16T14:16:38.084190Z"
    }
   },
   "outputs": [],
   "source": []
  }
 ],
 "metadata": {
  "kernelspec": {
   "display_name": "Python 3 (ipykernel)",
   "language": "python",
   "name": "python3"
  },
  "language_info": {
   "codemirror_mode": {
    "name": "ipython",
    "version": 3
   },
   "file_extension": ".py",
   "mimetype": "text/x-python",
   "name": "python",
   "nbconvert_exporter": "python",
   "pygments_lexer": "ipython3",
   "version": "3.11.5"
  }
 },
 "nbformat": 4,
 "nbformat_minor": 5
}
